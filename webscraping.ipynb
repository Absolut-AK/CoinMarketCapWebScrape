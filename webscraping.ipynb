{
 "cells": [
  {
   "cell_type": "code",
   "execution_count": 34,
   "metadata": {},
   "outputs": [],
   "source": [
    "from bs4 import BeautifulSoup\n",
    "from selenium import webdriver"
   ]
  },
  {
   "cell_type": "code",
   "execution_count": 35,
   "metadata": {},
   "outputs": [],
   "source": [
    "options = webdriver.ChromeOptions()\n",
    "options.add_argument(\"--headless\")\n",
    "browser = webdriver.Chrome(options=options)\n",
    "\n",
    "browser.get('https://coinmarketcap.com/')\n",
    "\n",
    "html = browser.page_source\n",
    "soup = BeautifulSoup(html, 'html.parser')"
   ]
  },
  {
   "cell_type": "code",
   "execution_count": 36,
   "metadata": {},
   "outputs": [
    {
     "name": "stdout",
     "output_type": "stream",
     "text": [
      "['#', 'Name', 'Price', '1h %', '24h %', '7d %', 'Market Cap', 'Volume(24h)', 'Circulating Supply']\n"
     ]
    }
   ],
   "source": [
    "data = soup.find('table', {'class':'sc-4c520df-3 ftyCrT cmc-table'})\n",
    "crypto = data.find('tr')\n",
    "names = [i.text for i in crypto]\n",
    "names = names[1:-1]\n",
    "print(names)"
   ]
  },
  {
   "cell_type": "code",
   "execution_count": 37,
   "metadata": {},
   "outputs": [],
   "source": [
    "import pandas as pd"
   ]
  },
  {
   "cell_type": "code",
   "execution_count": 38,
   "metadata": {},
   "outputs": [
    {
     "data": {
      "text/html": [
       "<div>\n",
       "<style scoped>\n",
       "    .dataframe tbody tr th:only-of-type {\n",
       "        vertical-align: middle;\n",
       "    }\n",
       "\n",
       "    .dataframe tbody tr th {\n",
       "        vertical-align: top;\n",
       "    }\n",
       "\n",
       "    .dataframe thead th {\n",
       "        text-align: right;\n",
       "    }\n",
       "</style>\n",
       "<table border=\"1\" class=\"dataframe\">\n",
       "  <thead>\n",
       "    <tr style=\"text-align: right;\">\n",
       "      <th></th>\n",
       "      <th>#</th>\n",
       "      <th>Name</th>\n",
       "      <th>Price</th>\n",
       "      <th>1h %</th>\n",
       "      <th>24h %</th>\n",
       "      <th>7d %</th>\n",
       "      <th>Market Cap</th>\n",
       "      <th>Volume(24h)</th>\n",
       "      <th>Circulating Supply</th>\n",
       "    </tr>\n",
       "  </thead>\n",
       "  <tbody>\n",
       "  </tbody>\n",
       "</table>\n",
       "</div>"
      ],
      "text/plain": [
       "Empty DataFrame\n",
       "Columns: [#, Name, Price, 1h %, 24h %, 7d %, Market Cap, Volume(24h), Circulating Supply]\n",
       "Index: []"
      ]
     },
     "execution_count": 38,
     "metadata": {},
     "output_type": "execute_result"
    }
   ],
   "source": [
    "df = pd.DataFrame(columns=names)\n",
    "df"
   ]
  },
  {
   "cell_type": "code",
   "execution_count": 39,
   "metadata": {},
   "outputs": [
    {
     "name": "stdout",
     "output_type": "stream",
     "text": [
      "[]\n"
     ]
    }
   ],
   "source": [
    "row = soup.find('tbody')\n",
    "information = crypto.find_all('tr')\n",
    "test = soup.select('font[color=\"red\"]')\n",
    "print(test)\n",
    "for i in row:\n",
    "    lists = [j.text.strip() for j in i][1:-1]\n",
    "    #if function needed because some data are not rendering and causes an error\n",
    "    if len(lists) == 9:\n",
    "        df.loc[len(df)] = lists\n"
   ]
  },
  {
   "cell_type": "code",
   "execution_count": 40,
   "metadata": {},
   "outputs": [
    {
     "name": "stdout",
     "output_type": "stream",
     "text": [
      "     #             Name       Price   1h %  24h %   7d %               Market Cap                         Volume(24h)    Circulating Supply\n",
      "0    1       BitcoinBTC  $29,473.52  0.17%  1.71%  0.85%    $573B$573,002,689,496          $20,316,020,613689,458 BTC        19,445,787 BTC\n",
      "1    2      EthereumETH   $1,858.35  0.12%  1.22%  0.17%  $225.2B$225,198,812,855         $6,927,960,7093,728,398 ETH       121,194,499 ETH\n",
      "2    3  Tether USDtUSDT     $0.9995  0.03%  0.02%  0.04%   $83.85B$83,852,035,257  $26,897,487,62326,911,427,613 USDT   83,895,492,719 USDT\n",
      "3    4           BNBBNB     $245.16  0.26%  0.32%  3.15%   $37.72B$37,719,836,946           $612,224,6392,497,197 BNB       153,855,045 BNB\n",
      "4    5           XRPXRP     $0.6944  0.09%  0.52%  1.20%   $36.59B$36,589,261,095     $1,235,014,2241,778,599,900 XRP    52,693,851,493 XRP\n",
      "5    6     USD CoinUSDC     $0.9999  0.01%  0.00%  0.00%   $26.24B$26,241,853,274    $4,192,587,6914,192,746,043 USDC   26,242,844,418 USDC\n",
      "6    7     DogecoinDOGE     $0.0767  0.04%  0.51%  4.20%   $10.77B$10,770,897,106      $306,112,3403,990,869,024 DOGE  140,423,086,384 DOGE\n",
      "7    8       CardanoADA     $0.3063  0.11%  0.26%  1.33%   $10.72B$10,724,813,943         $208,627,068681,099,622 ADA    35,013,034,375 ADA\n",
      "8    9        SolanaSOL      $23.58  0.21%  0.09%  0.05%     $9.54B$9,538,805,662          $400,623,52016,989,719 SOL       404,523,487 SOL\n",
      "9   10          TRONTRX    $0.07771  0.10%  0.48%  5.17%     $6.96B$6,962,913,734       $206,898,9282,662,303,635 TRX    89,596,358,357 TRX\n",
      "10  11      LitecoinLTC      $91.11  0.45%  0.60%  1.70%      $6.7B$6,696,180,246           $794,183,6268,716,800 LTC        73,495,927 LTC\n",
      "11  12     PolygonMATIC     $0.6909  0.15%  1.44%  2.12%     $6.44B$6,439,255,328       $277,790,924402,043,994 MATIC   9,319,469,069 MATIC\n"
     ]
    }
   ],
   "source": [
    "print(df.to_string())"
   ]
  }
 ],
 "metadata": {
  "kernelspec": {
   "display_name": "Python 3",
   "language": "python",
   "name": "python3"
  },
  "language_info": {
   "codemirror_mode": {
    "name": "ipython",
    "version": 3
   },
   "file_extension": ".py",
   "mimetype": "text/x-python",
   "name": "python",
   "nbconvert_exporter": "python",
   "pygments_lexer": "ipython3",
   "version": "3.11.2"
  },
  "orig_nbformat": 4
 },
 "nbformat": 4,
 "nbformat_minor": 2
}
