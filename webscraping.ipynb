{
 "cells": [
  {
   "cell_type": "code",
   "execution_count": 175,
   "metadata": {},
   "outputs": [],
   "source": [
    "from bs4 import BeautifulSoup\n",
    "from selenium import webdriver\n",
    "import time"
   ]
  },
  {
   "cell_type": "code",
   "execution_count": 176,
   "metadata": {},
   "outputs": [],
   "source": [
    "driver = webdriver.Chrome()\n",
    "driver.get('https://coinmarketcap.com/')\n",
    "time.sleep(5)\n",
    "\n",
    "html = driver.page_source\n",
    "soup = BeautifulSoup(html, 'html.parser')"
   ]
  },
  {
   "cell_type": "code",
   "execution_count": 177,
   "metadata": {},
   "outputs": [
    {
     "name": "stdout",
     "output_type": "stream",
     "text": [
      "['#', 'Name', 'Price', '1h %', '24h %', '7d %', 'Market Cap', 'Volume(24h)', 'Circulating Supply']\n"
     ]
    }
   ],
   "source": [
    "data = soup.find('table', {'class':'sc-4c520df-3 ftyCrT cmc-table'})\n",
    "test = data.find('tr')\n",
    "names = [i.text for i in test]\n",
    "names = names[1:-1]\n",
    "print(names)"
   ]
  },
  {
   "cell_type": "code",
   "execution_count": 178,
   "metadata": {},
   "outputs": [],
   "source": [
    "import pandas as pd"
   ]
  },
  {
   "cell_type": "code",
   "execution_count": 179,
   "metadata": {},
   "outputs": [
    {
     "data": {
      "text/html": [
       "<div>\n",
       "<style scoped>\n",
       "    .dataframe tbody tr th:only-of-type {\n",
       "        vertical-align: middle;\n",
       "    }\n",
       "\n",
       "    .dataframe tbody tr th {\n",
       "        vertical-align: top;\n",
       "    }\n",
       "\n",
       "    .dataframe thead th {\n",
       "        text-align: right;\n",
       "    }\n",
       "</style>\n",
       "<table border=\"1\" class=\"dataframe\">\n",
       "  <thead>\n",
       "    <tr style=\"text-align: right;\">\n",
       "      <th></th>\n",
       "      <th>#</th>\n",
       "      <th>Name</th>\n",
       "      <th>Price</th>\n",
       "      <th>1h %</th>\n",
       "      <th>24h %</th>\n",
       "      <th>7d %</th>\n",
       "      <th>Market Cap</th>\n",
       "      <th>Volume(24h)</th>\n",
       "      <th>Circulating Supply</th>\n",
       "    </tr>\n",
       "  </thead>\n",
       "  <tbody>\n",
       "  </tbody>\n",
       "</table>\n",
       "</div>"
      ],
      "text/plain": [
       "Empty DataFrame\n",
       "Columns: [#, Name, Price, 1h %, 24h %, 7d %, Market Cap, Volume(24h), Circulating Supply]\n",
       "Index: []"
      ]
     },
     "execution_count": 179,
     "metadata": {},
     "output_type": "execute_result"
    }
   ],
   "source": [
    "df = pd.DataFrame(columns=names)\n",
    "df"
   ]
  },
  {
   "cell_type": "code",
   "execution_count": 180,
   "metadata": {},
   "outputs": [
    {
     "name": "stdout",
     "output_type": "stream",
     "text": [
      "['', '1', 'BitcoinBTC', '$28,921.03', '0.08%', '1.45%', '0.99%', '$562.36B$562,364,900,496', '$13,410,520,756463,602 BTC', '19,444,843 BTC', '']\n",
      "['', '2', 'EthereumETH', '$1,832.55', '0.12%', '1.80%', '1.38%', '$221.92B$221,919,735,796', '$5,751,746,4673,138,800 ETH', '121,098,713 ETH', '']\n",
      "['', '3', 'Tether USDtUSDT', '$0.9996', '0.00%', '0.00%', '0.03%', '$83.79B$83,788,480,667', '$22,221,834,51722,229,431,087 USDT', '83,819,250,311 USDT', '']\n",
      "['', '4', 'BNBBNB', '$245.08', '0.10%', '0.72%', '2.77%', '$37.71B$37,706,622,693', '$712,410,4722,904,338 BNB', '153,855,205 BNB', '']\n",
      "['', '5', 'XRPXRP', '$0.6905', '0.17%', '1.72%', '0.16%', '$36.39B$36,385,186,426', '$1,670,758,9352,420,175,525 XRP', '52,693,851,493 XRP', '']\n",
      "['', '6', 'USD CoinUSDC', '$0.9999', '0.00%', '0.01%', '0.01%', '$26.47B$26,474,233,528', '$3,317,665,9933,317,778,504 USDC', '26,475,808,333 USDC', '']\n",
      "['', '7', 'DogecoinDOGE', '$0.07692', '0.05%', '2.78%', '0.73%', '$10.8B$10,799,853,949', '$411,178,2545,340,409,492 DOGE', '140,409,566,384 DOGE', '']\n",
      "['', '8', 'CardanoADA', '$0.3052', '0.05%', '2.49%', '0.36%', '$10.68B$10,682,154,838', '$241,737,457792,121,809 ADA', '35,008,946,336 ADA', '']\n",
      "['', '9', 'SolanaSOL', '$23.49', '0.37%', '3.79%', '0.53%', '$9.49B$9,488,741,987', '$428,005,79618,217,113 SOL', '404,510,382 SOL', '']\n",
      "['', '10', 'TRONTRX', '$0.07814', '0.06%', '0.27%', '3.21%', '$7B$7,000,018,720', '$239,339,0573,063,005,413 TRX', '89,610,504,722 TRX', '']\n",
      "['', '11', 'LitecoinLTC', '$90.47', '0.14%', '3.49%', '0.90%', '$6.65B$6,645,482,251', '$586,522,4626,482,989 LTC', '73,488,202 LTC', '']\n",
      "['', '12', 'PolygonMATIC', '$0.6808', '0.07%', '2.80%', '6.15%', '$6.34B$6,335,759,306', '$269,989,032396,556,883 MATIC', '9,319,469,069 MATIC', '']\n",
      "['', '13', 'PolkadotDOT', '$5.08', '0.04%', '1.80%', '2.65%', '$6.15B$6,149,128,304', '$121,386,75323,876,489 DOT', '1,210,718,789 DOT', '']\n",
      "['', '14', 'Shiba InuSHIB', '$0.000008323', '0.29%', '0.72%', '6.32%', '$4.9B$4,898,525,242', '$180,844,07921,727,071,854,817 SHIB', '589,346,914,631,298 SHIB', '']\n",
      "['', '15', 'Bitcoin CashBCH', '$243.35', '0.16%', '4.00%', '3.15%', '$4.73B$4,733,113,089', '$281,246,5411,155,739 BCH', '19,464,306 BCH', '']\n",
      "['', '16', 'Wrapped BitcoinWBTC', '$28,937.77', '0.02%', '1.41%', '0.99%', '$4.68B$4,683,872,384', '$157,796,5155,453 WBTC', '161,860 WBTC', '']\n",
      "['', '17', 'DaiDAI', '$0.9995', '0.03%', '0.00%', '0.06%', '$4.57B$4,565,920,281', '$206,523,152206,633,172 DAI', '4,569,137,968 DAI', '']\n",
      "['', '18', 'AvalancheAVAX', '$12.73', '0.15%', '2.78%', '4.15%', '$4.4B$4,404,447,632', '$127,413,63810,007,633 AVAX', '346,079,121 AVAX', '']\n",
      "['', '', 'ToncoinTON', '$1.18', '']\n",
      "['', '', 'ChainlinkLINK', '$7.47', '']\n",
      "['', '', 'StellarXLM', '$0.15', '']\n",
      "['', '', 'UniswapUNI', '$6.43', '']\n",
      "['', '', 'Binance USDBUSD', '$1.00', '']\n",
      "['', '', 'UNUS SED LEOLEO', '$3.93', '']\n",
      "['', '', 'CosmosATOM', '$8.80', '']\n",
      "['', '', 'TrueUSDTUSD', '$1.00', '']\n",
      "['', '', 'MoneroXMR', '$163.00', '']\n",
      "['', '', 'Ethereum ClassicETC', '$18.20', '']\n",
      "['', '', 'OKBOKB', '$42.56', '']\n",
      "['', '', 'FilecoinFIL', '$4.21', '']\n",
      "['', '', 'Internet ComputerICP', '$4.15', '']\n",
      "['', '', 'MantleMNT', '$0.51', '']\n",
      "['', '', 'HederaHBAR', '$0.05', '']\n",
      "['', '', 'Lido DAOLDO', '$1.84', '']\n",
      "['', '', 'AptosAPT', '$6.92', '']\n",
      "['', '', 'CronosCRO', '$0.06', '']\n",
      "['', '', 'ArbitrumARB', '$1.14', '']\n",
      "['', '', 'VeChainVET', '$0.02', '']\n",
      "['', '', 'NEAR ProtocolNEAR', '$1.39', '']\n",
      "['', '', 'QuantQNT', '$107.93', '']\n",
      "['', '', 'MakerMKR', '$1241.87', '']\n",
      "['', '', 'OptimismOP', '$1.59', '']\n",
      "['', '', 'The GraphGRT', '$0.11', '']\n",
      "['', '', 'AaveAAVE', '$64.51', '']\n",
      "['', '', 'StacksSTX', '$0.62', '']\n",
      "['', '', 'AlgorandALGO', '$0.11', '']\n",
      "['', '', 'Axie InfinityAXS', '$5.96', '']\n",
      "['', '', 'ImmutableIMX', '$0.77', '']\n",
      "['', '', 'MultiversXEGLD', '$31.72', '']\n",
      "['', '', 'XDC NetworkXDC', '$0.06', '']\n",
      "['', '', 'The SandboxSAND', '$0.42', '']\n",
      "['', '', 'EOSEOS', '$0.74', '']\n",
      "['', '', 'TezosXTZ', '$0.81', '']\n",
      "['', '', 'Theta NetworkTHETA', '$0.77', '']\n",
      "['', '', 'Bitcoin SVBSV', '$38.00', '']\n",
      "['', '', 'USDDUSDD', '$1.00', '']\n",
      "['', '', 'DecentralandMANA', '$0.38', '']\n",
      "['', '', 'SynthetixSNX', '$2.51', '']\n",
      "['', '', 'FantomFTM', '$0.24', '']\n",
      "['', '', 'ApeCoinAPE', '$1.79', '']\n",
      "['', '', 'InjectiveINJ', '$7.78', '']\n",
      "['', '', 'RenderRNDR', '$1.75', '']\n",
      "['', '', 'NeoNEO', '$8.60', '']\n",
      "['', '', 'Rocket PoolRPL', '$30.95', '']\n",
      "['', '', 'FlowFLOW', '$0.58', '']\n",
      "['', '', 'eCashXEC', '$0.00', '']\n",
      "['', '', 'KavaKAVA', '$0.86', '']\n",
      "['', '', 'KuCoin TokenKCS', '$5.78', '']\n",
      "['', '', 'Pax DollarUSDP', '$0.99', '']\n",
      "['', '', 'ConfluxCFX', '$0.18', '']\n",
      "['', '', 'ChilizCHZ', '$0.08', '']\n",
      "['', '', 'Curve DAO TokenCRV', '$0.59', '']\n",
      "['', '', 'GalaGALA', '$0.02', '']\n",
      "['', '', 'CompoundCOMP', '$64.24', '']\n",
      "['', '', 'KlaytnKLAY', '$0.16', '']\n",
      "['', '', 'ZcashZEC', '$29.80', '']\n",
      "['', '', 'PAX GoldPAXG', '$1944.68', '']\n",
      "['', '', 'Tether GoldXAUt', '$1957.52', '']\n",
      "['', '', 'PepePEPE', '$0.00', '']\n",
      "['', '', 'IOTAMIOTA', '$0.17', '']\n",
      "['', '', 'GMXGMX', '$52.68', '']\n",
      "['', '', 'Terra ClassicLUNC', '$0.00', '']\n",
      "['', '', 'SuiSUI', '$0.63', '']\n",
      "['', '', 'BitTorrent(New)BTT', '$0.00', '']\n",
      "['', '', 'CasperCSPR', '$0.04', '']\n",
      "['', '', 'Huobi TokenHT', '$2.68', '']\n",
      "['', '', 'Frax ShareFXS', '$5.65', '']\n",
      "['', '', 'MinaMINA', '$0.44', '']\n",
      "['', '', 'GateTokenGT', '$4.11', '']\n",
      "['', '', 'Trust Wallet TokenTWT', '$0.94', '']\n",
      "['', '', 'NexoNEXO', '$0.65', '']\n",
      "['', '', 'DashDASH', '$31.20', '']\n",
      "['', '', 'ArweaveAR', '$5.43', '']\n",
      "['', '', 'Bone ShibaSwapBONE', '$1.54', '']\n",
      "['', '', 'Gemini DollarGUSD', '$0.98', '']\n",
      "['', '', 'WOO NetworkWOO', '$0.20', '']\n",
      "['', '', 'ZilliqaZIL', '$0.02', '']\n",
      "['', '', 'PancakeSwapCAKE', '$1.55', '']\n",
      "['', '', '1inch Network1INCH', '$0.31', '']\n",
      "['', '', 'dYdXDYDX', '$2.03', '']\n"
     ]
    }
   ],
   "source": [
    "row = soup.find('tbody')\n",
    "information = test.find_all('tr')\n",
    "rows =[]\n",
    "for i in row:\n",
    "    lists = [j.text for j in i]\n",
    "    rows.append(lists[1:-1])\n",
    "    print(lists)"
   ]
  }
 ],
 "metadata": {
  "kernelspec": {
   "display_name": "Python 3",
   "language": "python",
   "name": "python3"
  },
  "language_info": {
   "codemirror_mode": {
    "name": "ipython",
    "version": 3
   },
   "file_extension": ".py",
   "mimetype": "text/x-python",
   "name": "python",
   "nbconvert_exporter": "python",
   "pygments_lexer": "ipython3",
   "version": "3.11.2"
  },
  "orig_nbformat": 4
 },
 "nbformat": 4,
 "nbformat_minor": 2
}
